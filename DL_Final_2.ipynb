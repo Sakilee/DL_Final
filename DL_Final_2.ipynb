{
 "cells": [
  {
   "cell_type": "code",
   "execution_count": 53,
   "id": "682ff17a-d7c5-433a-a43b-96e04f845e40",
   "metadata": {},
   "outputs": [],
   "source": [
    "from __future__ import print_function\n",
    "import torch\n",
    "import torch.nn as nn\n",
    "import torch.nn.functional as F\n",
    "import torch.optim as optim\n",
    "from torchvision import datasets, transforms\n",
    "import numpy as np\n",
    "import matplotlib.pyplot as plt\n",
    "\n",
    "# NOTE: This is a hack to get around \"User-agent\" limitations when downloading MNIST datasets\n",
    "#       see, https://github.com/pytorch/vision/issues/3497 for more information\n",
    "from six.moves import urllib\n",
    "opener = urllib.request.build_opener()\n",
    "opener.addheaders = [('User-agent', 'Mozilla/5.0')]\n",
    "urllib.request.install_opener(opener)"
   ]
  },
  {
   "cell_type": "code",
   "execution_count": 54,
   "id": "1498b5b1-c3de-4b60-a1a6-0c7016e7bca0",
   "metadata": {},
   "outputs": [],
   "source": [
    "# epsilons = [0, .05, .1, .15, .2, .25, .3, .35, .4, .45, .5]\n",
    "epsilons = [.06, .08, .1, .12, .14, .16, .18, .2, .22, .24, .26, .28, .3, .32, .34, .36, .38, .4, .42, .44, .46, .48, .5]\n",
    "pretrained_model = \"lenet_mnist_model.pth\"\n",
    "use_cuda=True"
   ]
  },
  {
   "cell_type": "code",
   "execution_count": 55,
   "id": "6150a63c-2fce-40ce-a21b-cdd84ddb896b",
   "metadata": {},
   "outputs": [
    {
     "name": "stdout",
     "output_type": "stream",
     "text": [
      "CUDA Available:  True\n",
      "60000\n"
     ]
    }
   ],
   "source": [
    "# LeNet Model definition\n",
    "class Net(nn.Module):\n",
    "    def __init__(self):\n",
    "        super(Net, self).__init__()\n",
    "        self.conv1 = nn.Conv2d(1, 10, kernel_size=5)\n",
    "        self.conv2 = nn.Conv2d(10, 20, kernel_size=5)\n",
    "        self.conv2_drop = nn.Dropout2d()\n",
    "        self.fc1 = nn.Linear(320, 50)\n",
    "        self.fc2 = nn.Linear(50, 10)\n",
    "\n",
    "    def forward(self, x):\n",
    "        x = F.relu(F.max_pool2d(self.conv1(x), 2))\n",
    "        x = F.relu(F.max_pool2d(self.conv2_drop(self.conv2(x)), 2))\n",
    "        x = x.view(-1, 320)\n",
    "        x = F.relu(self.fc1(x))\n",
    "        x = F.dropout(x, training=self.training)\n",
    "        x = self.fc2(x)\n",
    "        return F.log_softmax(x, dim=1)\n",
    "\n",
    "# MNIST Test dataset and dataloader declaration\n",
    "test_loader = torch.utils.data.DataLoader(\n",
    "    datasets.MNIST('datatest', train=False, download=True, transform=transforms.Compose([\n",
    "            transforms.ToTensor(),\n",
    "            ])),\n",
    "        batch_size=1, shuffle=True)\n",
    "\n",
    "# Define what device we are using\n",
    "print(\"CUDA Available: \",torch.cuda.is_available())\n",
    "device = torch.device(\"cuda\" if (use_cuda and torch.cuda.is_available()) else \"cpu\")\n",
    "\n",
    "# Initialize the network\n",
    "model = Net().to(device)\n",
    "\n",
    "# Load the pretrained model\n",
    "model.load_state_dict(torch.load(pretrained_model, map_location='cpu'))\n",
    "\n",
    "# Set the model in evaluation mode. In this case this is for the Dropout layers\n",
    "model.eval()\n",
    "\n",
    "print(len(datasets.MNIST('datatest')))"
   ]
  },
  {
   "cell_type": "code",
   "execution_count": 56,
   "id": "6fd6b5de-4527-48e5-80c7-a76715e7c76c",
   "metadata": {},
   "outputs": [],
   "source": [
    "# FGSM attack code\n",
    "def fgsm_attack(image, epsilon, data_grad):\n",
    "    # Collect the element-wise sign of the data gradient\n",
    "    sign_data_grad = data_grad.sign()\n",
    "    # Create the perturbed image by adjusting each pixel of the input image\n",
    "    perturbed_image = image + epsilon*sign_data_grad\n",
    "    # Adding clipping to maintain [0,1] range\n",
    "    perturbed_image = torch.clamp(perturbed_image, 0, 1)\n",
    "    # Return the perturbed image\n",
    "    return perturbed_image"
   ]
  },
  {
   "cell_type": "code",
   "execution_count": 57,
   "id": "13c9ca26-f16d-4caf-a5d9-273fe0e0eb66",
   "metadata": {},
   "outputs": [],
   "source": [
    "def test( model, device, test_loader, epsilon ):\n",
    "\n",
    "    # Accuracy counter\n",
    "    correct = 0\n",
    "    adv_examples = []\n",
    "\n",
    "    # Loop over all examples in test set\n",
    "    for data, target in test_loader:\n",
    "\n",
    "        # Send the data and label to the device\n",
    "        data, target = data.to(device), target.to(device)\n",
    "\n",
    "        # Set requires_grad attribute of tensor. Important for Attack\n",
    "        data.requires_grad = True\n",
    "\n",
    "        # Forward pass the data through the model\n",
    "        output = model(data)\n",
    "        init_pred = output.max(1, keepdim=True)[1] # get the index of the max log-probability\n",
    "\n",
    "        # If the initial prediction is wrong, dont bother attacking, just move on\n",
    "        if init_pred.item() != target.item():\n",
    "            continue\n",
    "\n",
    "        # Calculate the loss\n",
    "        loss = F.nll_loss(output, target)\n",
    "\n",
    "        # Zero all existing gradients\n",
    "        model.zero_grad()\n",
    "\n",
    "        # Calculate gradients of model in backward pass\n",
    "        loss.backward()\n",
    "\n",
    "        # Collect datagrad\n",
    "        data_grad = data.grad.data\n",
    "\n",
    "        # Call FGSM Attack\n",
    "        perturbed_data = fgsm_attack(data, epsilon, data_grad)\n",
    "\n",
    "        # Re-classify the perturbed image\n",
    "        output = model(perturbed_data)\n",
    "\n",
    "        # Check for success\n",
    "        final_pred = output.max(1, keepdim=True)[1] # get the index of the max log-probability\n",
    "        if final_pred.item() == target.item():\n",
    "            correct += 1\n",
    "            # Special case for saving 0 epsilon examples\n",
    "            if (epsilon == 0) and (len(adv_examples) < 5):\n",
    "                adv_ex = perturbed_data.squeeze().detach().cpu().numpy()\n",
    "                adv_examples.append( (init_pred.item(), final_pred.item(), adv_ex) )\n",
    "        else:\n",
    "            # Save some adv examples for visualization later\n",
    "            if len(adv_examples) < 5:\n",
    "                adv_ex = perturbed_data.squeeze().detach().cpu().numpy()\n",
    "                adv_examples.append( (init_pred.item(), final_pred.item(), adv_ex) )\n",
    "\n",
    "    # Calculate final accuracy for this epsilon\n",
    "    final_acc = correct/float(len(test_loader))\n",
    "    print(\"Epsilon: {}\\tTest Accuracy = {} / {} = {}\".format(epsilon, correct, len(test_loader), final_acc))\n",
    "\n",
    "    # Return the accuracy and an adversarial example\n",
    "    return final_acc, adv_examples"
   ]
  },
  {
   "cell_type": "code",
   "execution_count": 58,
   "id": "83691779-9a4d-4661-8bdd-03c578f5a980",
   "metadata": {},
   "outputs": [
    {
     "name": "stdout",
     "output_type": "stream",
     "text": [
      "Epsilon: 0.06\tTest Accuracy = 9281 / 10000 = 0.9281\n",
      "Epsilon: 0.08\tTest Accuracy = 8936 / 10000 = 0.8936\n",
      "Epsilon: 0.1\tTest Accuracy = 8510 / 10000 = 0.851\n",
      "Epsilon: 0.12\tTest Accuracy = 7943 / 10000 = 0.7943\n",
      "Epsilon: 0.14\tTest Accuracy = 7258 / 10000 = 0.7258\n",
      "Epsilon: 0.16\tTest Accuracy = 6390 / 10000 = 0.639\n",
      "Epsilon: 0.18\tTest Accuracy = 5391 / 10000 = 0.5391\n",
      "Epsilon: 0.2\tTest Accuracy = 4302 / 10000 = 0.4302\n",
      "Epsilon: 0.22\tTest Accuracy = 3347 / 10000 = 0.3347\n",
      "Epsilon: 0.24\tTest Accuracy = 2459 / 10000 = 0.2459\n",
      "Epsilon: 0.26\tTest Accuracy = 1757 / 10000 = 0.1757\n",
      "Epsilon: 0.28\tTest Accuracy = 1218 / 10000 = 0.1218\n",
      "Epsilon: 0.3\tTest Accuracy = 869 / 10000 = 0.0869\n",
      "Epsilon: 0.32\tTest Accuracy = 607 / 10000 = 0.0607\n",
      "Epsilon: 0.34\tTest Accuracy = 432 / 10000 = 0.0432\n",
      "Epsilon: 0.36\tTest Accuracy = 301 / 10000 = 0.0301\n",
      "Epsilon: 0.38\tTest Accuracy = 216 / 10000 = 0.0216\n",
      "Epsilon: 0.4\tTest Accuracy = 167 / 10000 = 0.0167\n",
      "Epsilon: 0.42\tTest Accuracy = 131 / 10000 = 0.0131\n",
      "Epsilon: 0.44\tTest Accuracy = 100 / 10000 = 0.01\n",
      "Epsilon: 0.46\tTest Accuracy = 80 / 10000 = 0.008\n",
      "Epsilon: 0.48\tTest Accuracy = 70 / 10000 = 0.007\n",
      "Epsilon: 0.5\tTest Accuracy = 63 / 10000 = 0.0063\n"
     ]
    }
   ],
   "source": [
    "accuracies = []\n",
    "examples = []\n",
    "\n",
    "# Run test for each epsilon\n",
    "for eps in epsilons:\n",
    "    acc, ex = test(model, device, test_loader, eps)\n",
    "    accuracies.append(acc)\n",
    "    examples.append(ex)"
   ]
  },
  {
   "cell_type": "code",
   "execution_count": 59,
   "id": "3aa25a69-55f2-4278-ac92-2dd5c077f966",
   "metadata": {},
   "outputs": [
    {
     "data": {
      "image/png": "[encoded data removed]",
      "text/plain": [
       "<Figure size 720x720 with 1 Axes>"
      ]
     },
     "metadata": {
      "needs_background": "light"
     },
     "output_type": "display_data"
    }
   ],
   "source": [
    "plt.figure(figsize=(10,10))\n",
    "plt.plot(epsilons, accuracies, \"*-\")\n",
    "plt.yticks(np.arange(0, 1.1, step=0.1))\n",
    "plt.xticks(np.arange(.06, .5, step=0.02))\n",
    "plt.title(\"Accuracy vs Epsilon\")\n",
    "plt.xlabel(\"Epsilon\")\n",
    "plt.ylabel(\"Accuracy\")\n",
    "plt.show()"
   ]
  },
  {
   "cell_type": "code",
   "execution_count": 60,
   "id": "c986bf2c-cc7a-419c-af82-cea4d8c5a434",
   "metadata": {},
   "outputs": [
    {
     "data": {
      "image/png": "[encoded data removed]",
      "text/plain": [
       "<Figure size 576x720 with 115 Axes>"
      ]
     },
     "metadata": {},
     "output_type": "display_data"
    }
   ],
   "source": [
    "# Plot several examples of adversarial samples at each epsilon\n",
    "cnt = 0\n",
    "plt.figure(figsize=(8,10))\n",
    "for i in range(len(epsilons)):\n",
    "    for j in range(len(examples[i])):\n",
    "        cnt += 1\n",
    "        plt.subplot(len(epsilons),len(examples[0]),cnt)\n",
    "        plt.xticks([], [])\n",
    "        plt.yticks([], [])\n",
    "        if j == 0:\n",
    "            plt.ylabel(\"Eps: {}\".format(epsilons[i]), fontsize=14)\n",
    "        orig,adv,ex = examples[i][j]\n",
    "        plt.title(\"{} -> {}\".format(orig, adv))\n",
    "        plt.imshow(ex, cmap=\"gray\")\n",
    "        plt.imsave(\"JPG-PNG-to-MNIST-NN-Format-master/training-images/{}/{}_{}.png\".format(orig, i, j), ex, cmap=\"gray\")\n",
    "        im = Image.open(\"JPG-PNG-to-MNIST-NN-Format-master/training-images/{}/{}_{}.png\".format(orig, i, j))\n",
    "        im = im.convert('L')\n",
    "        im.save(\"JPG-PNG-to-MNIST-NN-Format-master/training-images/{}/{}_{}.png\".format(orig, i, j))\n",
    "        \n",
    "plt.tight_layout()\n",
    "plt.show()"
   ]
  },
  {
   "cell_type": "code",
   "execution_count": 10,
   "id": "3eb30a2f-c422-4dbc-806c-eae683d12776",
   "metadata": {},
   "outputs": [],
   "source": [
    "# from PIL import Image\n",
    " \n",
    "# #Consider whether you want to use binary image,use OpenCV\n",
    "# #croped_image = cv2.resize(croped_image, (28, 28),  interpolation=cv2.INTER_CUBIC)\n",
    "# #ret,croped_image = cv2.threshold(croped_image,190,255,cv2.THRESH_BINARY)\n",
    " \n",
    "# #convert image to binary\n",
    "# im = Image.open(\"MM/1_1.png\")\n",
    "# im = im.convert('L')\n",
    "# im.save(\"1_1.png\")"
   ]
  },
  {
   "cell_type": "code",
   "execution_count": null,
   "id": "40cf0ea1-0e6c-47fe-b813-77b8b6030a34",
   "metadata": {},
   "outputs": [],
   "source": []
  },
  {
   "cell_type": "code",
   "execution_count": 19,
   "id": "48ede868-fa86-4405-9cad-fd8a5d9fa4f7",
   "metadata": {},
   "outputs": [],
   "source": [
    "# train_set = datasets.MNIST('./dataset', train=True, download=True,transform = transforms.Compose([\n",
    "#                   transforms.ToTensor()\n",
    "#               ]))\n",
    "# test_set = datasets.MNIST('./dataset', train=False, download=True,transform = transforms.Compose([\n",
    "#                   transforms.ToTensor()\n",
    "#               ]))"
   ]
  },
  {
   "cell_type": "code",
   "execution_count": 20,
   "id": "3ed5cc00-01de-4c29-98d1-4f5b7326455c",
   "metadata": {},
   "outputs": [
    {
     "name": "stdout",
     "output_type": "stream",
     "text": [
      "Dataset MNIST\n",
      "    Number of datapoints: 60000\n",
      "    Root location: ./dataset\n",
      "    Split: Train\n",
      "    StandardTransform\n",
      "Transform: Compose(\n",
      "               ToTensor()\n",
      "           )\n"
     ]
    }
   ],
   "source": [
    "\n",
    "# print(train_set)\n"
   ]
  },
  {
   "cell_type": "code",
   "execution_count": 21,
   "id": "20959722-c739-4ee5-8ea7-1285084c32b7",
   "metadata": {},
   "outputs": [
    {
     "name": "stdout",
     "output_type": "stream",
     "text": [
      "[[[[0. 0. 0. ... 0. 0. 0.]\n",
      "   [0. 0. 0. ... 0. 0. 0.]\n",
      "   [0. 0. 0. ... 0. 0. 0.]\n",
      "   ...\n",
      "   [0. 0. 0. ... 0. 0. 0.]\n",
      "   [0. 0. 0. ... 0. 0. 0.]\n",
      "   [0. 0. 0. ... 0. 0. 0.]]]\n",
      "\n",
      "\n",
      " [[[0. 0. 0. ... 0. 0. 0.]\n",
      "   [0. 0. 0. ... 0. 0. 0.]\n",
      "   [0. 0. 0. ... 0. 0. 0.]\n",
      "   ...\n",
      "   [0. 0. 0. ... 0. 0. 0.]\n",
      "   [0. 0. 0. ... 0. 0. 0.]\n",
      "   [0. 0. 0. ... 0. 0. 0.]]]\n",
      "\n",
      "\n",
      " [[[0. 0. 0. ... 0. 0. 0.]\n",
      "   [0. 0. 0. ... 0. 0. 0.]\n",
      "   [0. 0. 0. ... 0. 0. 0.]\n",
      "   ...\n",
      "   [0. 0. 0. ... 0. 0. 0.]\n",
      "   [0. 0. 0. ... 0. 0. 0.]\n",
      "   [0. 0. 0. ... 0. 0. 0.]]]\n",
      "\n",
      "\n",
      " ...\n",
      "\n",
      "\n",
      " [[[0. 0. 0. ... 0. 0. 0.]\n",
      "   [0. 0. 0. ... 0. 0. 0.]\n",
      "   [0. 0. 0. ... 0. 0. 0.]\n",
      "   ...\n",
      "   [0. 0. 0. ... 0. 0. 0.]\n",
      "   [0. 0. 0. ... 0. 0. 0.]\n",
      "   [0. 0. 0. ... 0. 0. 0.]]]\n",
      "\n",
      "\n",
      " [[[0. 0. 0. ... 0. 0. 0.]\n",
      "   [0. 0. 0. ... 0. 0. 0.]\n",
      "   [0. 0. 0. ... 0. 0. 0.]\n",
      "   ...\n",
      "   [0. 0. 0. ... 0. 0. 0.]\n",
      "   [0. 0. 0. ... 0. 0. 0.]\n",
      "   [0. 0. 0. ... 0. 0. 0.]]]\n",
      "\n",
      "\n",
      " [[[0. 0. 0. ... 0. 0. 0.]\n",
      "   [0. 0. 0. ... 0. 0. 0.]\n",
      "   [0. 0. 0. ... 0. 0. 0.]\n",
      "   ...\n",
      "   [0. 0. 0. ... 0. 0. 0.]\n",
      "   [0. 0. 0. ... 0. 0. 0.]\n",
      "   [0. 0. 0. ... 0. 0. 0.]]]]\n"
     ]
    }
   ],
   "source": [
    "# from torch.utils.data import DataLoader\n",
    "# train_data = DataLoader(train_set, batch_size=128, shuffle=True)\n",
    "# train_dataset_array = next(iter(train_data))[0].numpy()\n",
    "# print(train_dataset_array)"
   ]
  },
  {
   "cell_type": "code",
   "execution_count": 35,
   "id": "3a29d665-f611-4f32-856f-65b11ee1711e",
   "metadata": {},
   "outputs": [],
   "source": [
    "# import os\n",
    "# import numpy as np\n",
    "# import gzip\n",
    "\n",
    "# # print(os.getcwd())\n",
    "\n",
    "# def load_data(data_folder):\n",
    "\n",
    "#   files = [\n",
    "#       'train-labels-idx1-ubyte.gz', 'train-images-idx3-ubyte.gz',\n",
    "#       'test-labels-idx1-ubyte.gz', 'test-images-idx3-ubyte.gz'\n",
    "#   ]\n",
    "\n",
    "#   paths = []\n",
    "#   for fname in files:\n",
    "#     paths.append(os.path.join(data_folder,fname))\n",
    "  \n",
    "\n",
    "#   with gzip.open(paths[0], 'rb') as lbpath:\n",
    "#     y_train = np.frombuffer(lbpath.read(), np.uint8, offset=8)\n",
    "\n",
    "#   with gzip.open(paths[1], 'rb') as imgpath:\n",
    "#     x_train = np.frombuffer(\n",
    "#         imgpath.read(), np.uint8, offset=16).reshape(len(y_train), 28, 28)\n",
    "\n",
    "#   with gzip.open(paths[2], 'rb') as lbpath:\n",
    "#     y_test = np.frombuffer(lbpath.read(), np.uint8, offset=8)\n",
    "\n",
    "#   with gzip.open(paths[3], 'rb') as imgpath:\n",
    "#     x_test = np.frombuffer(\n",
    "#         imgpath.read(), np.uint8, offset=16).reshape(len(y_test), 28, 28)\n",
    "\n",
    "#   return (x_train, y_train), (x_test, y_test)\n",
    "\n",
    "# (train_images, train_labels), (test_images, test_labels) = load_data('JPG-PNG-to-MNIST-NN-Format-master/')"
   ]
  },
  {
   "cell_type": "code",
   "execution_count": 36,
   "id": "b09b111b-11dd-466d-a4cc-3e22b9892c19",
   "metadata": {},
   "outputs": [
    {
     "ename": "NameError",
     "evalue": "name 'keras' is not defined",
     "output_type": "error",
     "traceback": [
      "\u001b[0;31m---------------------------------------------------------------------------\u001b[0m",
      "\u001b[0;31mNameError\u001b[0m                                 Traceback (most recent call last)",
      "\u001b[0;32m/tmp/ipykernel_2002712/2803822655.py\u001b[0m in \u001b[0;36m<module>\u001b[0;34m\u001b[0m\n\u001b[0;32m----> 1\u001b[0;31m \u001b[0;34m(\u001b[0m\u001b[0mtrain_images_old\u001b[0m\u001b[0;34m,\u001b[0m \u001b[0mtrain_labels_old\u001b[0m\u001b[0;34m)\u001b[0m\u001b[0;34m,\u001b[0m \u001b[0;34m(\u001b[0m\u001b[0mtest_images_old\u001b[0m\u001b[0;34m,\u001b[0m \u001b[0mtest_labels_old\u001b[0m\u001b[0;34m)\u001b[0m \u001b[0;34m=\u001b[0m \u001b[0mkeras\u001b[0m\u001b[0;34m.\u001b[0m\u001b[0mdatasets\u001b[0m\u001b[0;34m.\u001b[0m\u001b[0mmnist\u001b[0m\u001b[0;34m.\u001b[0m\u001b[0mload_data\u001b[0m\u001b[0;34m(\u001b[0m\u001b[0;34m)\u001b[0m\u001b[0;34m\u001b[0m\u001b[0;34m\u001b[0m\u001b[0m\n\u001b[0m\u001b[1;32m      2\u001b[0m \u001b[0;34m\u001b[0m\u001b[0m\n\u001b[1;32m      3\u001b[0m \u001b[0;31m#https://stackoverflow.com/questions/43153076/how-to-concatenate-numpy-arrays-into-a-specific-shape\u001b[0m\u001b[0;34m\u001b[0m\u001b[0;34m\u001b[0m\u001b[0m\n\u001b[1;32m      4\u001b[0m \u001b[0;31m#must have same dim\u001b[0m\u001b[0;34m\u001b[0m\u001b[0;34m\u001b[0m\u001b[0m\n\u001b[1;32m      5\u001b[0m \u001b[0mtrain_images_old\u001b[0m \u001b[0;34m=\u001b[0m \u001b[0mtrain_images_old\u001b[0m\u001b[0;34m.\u001b[0m\u001b[0mreshape\u001b[0m\u001b[0;34m(\u001b[0m\u001b[0mtrain_images_old\u001b[0m\u001b[0;34m.\u001b[0m\u001b[0mshape\u001b[0m\u001b[0;34m[\u001b[0m\u001b[0;36m0\u001b[0m\u001b[0;34m]\u001b[0m\u001b[0;34m,\u001b[0m \u001b[0;36m28\u001b[0m\u001b[0;34m,\u001b[0m \u001b[0;36m28\u001b[0m\u001b[0;34m)\u001b[0m\u001b[0;34m\u001b[0m\u001b[0;34m\u001b[0m\u001b[0m\n",
      "\u001b[0;31mNameError\u001b[0m: name 'keras' is not defined"
     ]
    }
   ],
   "source": [
    "# (train_images_old, train_labels_old), (test_images_old, test_labels_old) = keras.datasets.mnist.load_data()\n",
    "\n",
    "# #https://stackoverflow.com/questions/43153076/how-to-concatenate-numpy-arrays-into-a-specific-shape\n",
    "# #must have same dim\n",
    "# train_images_old = train_images_old.reshape(train_images_old.shape[0], 28, 28)\n",
    "# test_images_old = test_images_old.reshape(test_images_old.shape[0], 28, 28)\n",
    "# print(type(train_images))\n",
    "# print(type(train_images_old))\n",
    "# # train_images, train_labels, test_images, test_labels = [None, None, None, None]\n",
    "\n",
    "# if type(train_images_old) == type(train_images):\n",
    "#     print(\"Type is same, concat/merge datasets...\")\n",
    "#     train_images = np.concatenate((train_images, train_images_old))\n",
    "#     train_labels = np.concatenate((train_labels, train_labels_old))\n",
    "#     print(train_images)\n",
    "#     print(train_labels)\n",
    "#     test_images = np.concatenate((test_images, test_images_old))\n",
    "#     test_labels = np.concatenate((test_labels, test_labels_old))\n",
    "#     print(\"Merge successed.\")"
   ]
  },
  {
   "cell_type": "code",
   "execution_count": null,
   "id": "98ffbf14-3fa9-4520-80d8-7669e4d5a3a7",
   "metadata": {},
   "outputs": [],
   "source": []
  }
 ],
 "metadata": {
  "kernelspec": {
   "display_name": "Pytorch",
   "language": "python",
   "name": "pytorch"
  },
  "language_info": {
   "codemirror_mode": {
    "name": "ipython",
    "version": 3
   },
   "file_extension": ".py",
   "mimetype": "text/x-python",
   "name": "python",
   "nbconvert_exporter": "python",
   "pygments_lexer": "ipython3",
   "version": "3.9.7"
  }
 },
 "nbformat": 4,
 "nbformat_minor": 5
}
