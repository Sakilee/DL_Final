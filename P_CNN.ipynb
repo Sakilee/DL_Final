{
 "cells": [
  {
   "cell_type": "code",
   "execution_count": 1,
   "id": "57a185ed-cc9a-4a03-a083-63b0f838a89d",
   "metadata": {},
   "outputs": [
    {
     "name": "stderr",
     "output_type": "stream",
     "text": [
      "2022-01-12 00:49:06.568399: W tensorflow/stream_executor/platform/default/dso_loader.cc:64] Could not load dynamic library 'libcudart.so.11.0'; dlerror: libcudart.so.11.0: cannot open shared object file: No such file or directory\n",
      "2022-01-12 00:49:06.568449: I tensorflow/stream_executor/cuda/cudart_stub.cc:29] Ignore above cudart dlerror if you do not have a GPU set up on your machine.\n"
     ]
    }
   ],
   "source": [
    "import os\n",
    "import numpy as np\n",
    "import gzip\n",
    "from tensorflow import keras\n",
    "import numpy as np\n",
    "from keras.datasets import mnist\n",
    "import matplotlib.pyplot as plt\n",
    "from tqdm import tqdm\n",
    "from torchvision import transforms\n",
    "import torch.nn as nn\n",
    "from torch.utils.data import DataLoader,Dataset\n",
    "import torch\n",
    "import torch.optim as optim\n",
    "from torch.autograd import Variable\n",
    "\n",
    "# print(os.getcwd())\n",
    "\n",
    "def load_data(data_folder):\n",
    "\n",
    "  files = [\n",
    "      'train-labels-idx1-ubyte.gz', 'train-images-idx3-ubyte.gz',\n",
    "      'test-labels-idx1-ubyte.gz', 'test-images-idx3-ubyte.gz'\n",
    "  ]\n",
    "\n",
    "  paths = []\n",
    "  for fname in files:\n",
    "    paths.append(os.path.join(data_folder,fname))\n",
    "  \n",
    "\n",
    "  with gzip.open(paths[0], 'rb') as lbpath:\n",
    "    y_train = np.frombuffer(lbpath.read(), np.uint8, offset=8)\n",
    "\n",
    "  with gzip.open(paths[1], 'rb') as imgpath:\n",
    "    x_train = np.frombuffer(\n",
    "        imgpath.read(), np.uint8, offset=16).reshape(len(y_train), 28, 28)\n",
    "\n",
    "  with gzip.open(paths[2], 'rb') as lbpath:\n",
    "    y_test = np.frombuffer(lbpath.read(), np.uint8, offset=8)\n",
    "\n",
    "  with gzip.open(paths[3], 'rb') as imgpath:\n",
    "    x_test = np.frombuffer(\n",
    "        imgpath.read(), np.uint8, offset=16).reshape(len(y_test), 28, 28)\n",
    "\n",
    "  return (x_train, y_train), (x_test, y_test)\n",
    "\n",
    "(train_images, train_labels), (test_images, test_labels) = load_data('JPG-PNG-to-MNIST-NN-Format-master/')"
   ]
  },
  {
   "cell_type": "code",
   "execution_count": 2,
   "id": "67909c64-7dc0-4c90-b8c0-402393180bbf",
   "metadata": {},
   "outputs": [
    {
     "name": "stdout",
     "output_type": "stream",
     "text": [
      "<class 'numpy.ndarray'>\n",
      "<class 'numpy.ndarray'>\n",
      "Type is same, concat/merge datasets...\n",
      "[[[38  0 38 ... 38 38  0]\n",
      "  [ 0 38 38 ... 38 38  0]\n",
      "  [ 0 38 38 ...  0  0  0]\n",
      "  ...\n",
      "  [ 0  0  0 ... 38 38  0]\n",
      "  [38 38 38 ...  0 38  0]\n",
      "  [ 0  0  0 ...  0  0  0]]\n",
      "\n",
      " [[ 0  0  0 ... 65 65  0]\n",
      "  [ 0 65 65 ... 65 65  0]\n",
      "  [65 65  0 ...  0 65  0]\n",
      "  ...\n",
      "  [65  0 65 ...  0 65  0]\n",
      "  [ 0  0  0 ... 65 65  0]\n",
      "  [65  0  0 ...  0  0  0]]\n",
      "\n",
      " [[81  0  0 ...  0  0  0]\n",
      "  [ 0 81 81 ...  0  0  0]\n",
      "  [81 81  0 ...  0  0  0]\n",
      "  ...\n",
      "  [81 81 81 ...  0  0  0]\n",
      "  [ 0  0  0 ...  0 81  0]\n",
      "  [ 0  0  0 ...  0  0  0]]\n",
      "\n",
      " ...\n",
      "\n",
      " [[ 0  0  0 ...  0  0  0]\n",
      "  [ 0  0  0 ...  0  0  0]\n",
      "  [ 0  0  0 ...  0  0  0]\n",
      "  ...\n",
      "  [ 0  0  0 ...  0  0  0]\n",
      "  [ 0  0  0 ...  0  0  0]\n",
      "  [ 0  0  0 ...  0  0  0]]\n",
      "\n",
      " [[ 0  0  0 ...  0  0  0]\n",
      "  [ 0  0  0 ...  0  0  0]\n",
      "  [ 0  0  0 ...  0  0  0]\n",
      "  ...\n",
      "  [ 0  0  0 ...  0  0  0]\n",
      "  [ 0  0  0 ...  0  0  0]\n",
      "  [ 0  0  0 ...  0  0  0]]\n",
      "\n",
      " [[ 0  0  0 ...  0  0  0]\n",
      "  [ 0  0  0 ...  0  0  0]\n",
      "  [ 0  0  0 ...  0  0  0]\n",
      "  ...\n",
      "  [ 0  0  0 ...  0  0  0]\n",
      "  [ 0  0  0 ...  0  0  0]\n",
      "  [ 0  0  0 ...  0  0  0]]]\n",
      "[1 2 4 ... 5 6 8]\n",
      "Merge successed.\n"
     ]
    }
   ],
   "source": [
    "(train_images_old, train_labels_old), (test_images_old, test_labels_old) = keras.datasets.mnist.load_data()\n",
    "\n",
    "#https://stackoverflow.com/questions/43153076/how-to-concatenate-numpy-arrays-into-a-specific-shape\n",
    "#must have same dim\n",
    "train_images_old = train_images_old.reshape(train_images_old.shape[0], 28, 28)\n",
    "test_images_old = test_images_old.reshape(test_images_old.shape[0], 28, 28)\n",
    "print(type(train_images))\n",
    "print(type(train_images_old))\n",
    "# train_images, train_labels, test_images, test_labels = [None, None, None, None]\n",
    "\n",
    "if type(train_images_old) == type(train_images):\n",
    "    print(\"Type is same, concat/merge datasets...\")\n",
    "    train_images = np.concatenate((train_images, train_images_old))\n",
    "    train_labels = np.concatenate((train_labels, train_labels_old))\n",
    "    print(train_images)\n",
    "    print(train_labels)\n",
    "#     test_images = np.concatenate((test_images, test_images_old))\n",
    "#     test_labels = np.concatenate((test_labels, test_labels_old))\n",
    "    print(\"Merge successed.\")"
   ]
  },
  {
   "cell_type": "code",
   "execution_count": 3,
   "id": "f1d2485a-8d3b-464e-8acc-725194dd18ad",
   "metadata": {},
   "outputs": [
    {
     "name": "stdout",
     "output_type": "stream",
     "text": [
      "No of training datapoints:60385\n",
      "No of Test datapoints:634\n",
      "(60385, 28, 28)\n",
      "(60385,)\n",
      "(634, 28, 28)\n",
      "(634,)\n",
      "torch.Size([60385, 28, 28])\n",
      "torch.Size([60385])\n",
      "torch.Size([634, 28, 28])\n",
      "torch.Size([634])\n"
     ]
    },
    {
     "name": "stderr",
     "output_type": "stream",
     "text": [
      "/tmp/ipykernel_3845/2426798492.py:13: UserWarning: The given NumPy array is not writeable, and PyTorch does not support non-writeable tensors. This means you can write to the underlying (supposedly non-writeable) NumPy array using the tensor. You may want to copy the array to protect its data or make it writeable before converting it to a tensor. This type of warning will be suppressed for the rest of this program. (Triggered internally at  /opt/conda/conda-bld/pytorch_1623448255797/work/torch/csrc/utils/tensor_numpy.cpp:180.)\n",
      "  xtest = torch.from_numpy(xtest)\n"
     ]
    }
   ],
   "source": [
    "#Here we load the dataset from keras\n",
    "xtrain = train_images\n",
    "ytrain = train_labels\n",
    "xtest = test_images\n",
    "ytest = test_labels\n",
    "print(\"No of training datapoints:{}\\nNo of Test datapoints:{}\".format(len(xtrain),len(xtest)))\n",
    "print(xtrain.shape)\n",
    "print(ytrain.shape)\n",
    "print(xtest.shape)\n",
    "print(ytest.shape)\n",
    "xtrain = torch.from_numpy(xtrain)\n",
    "ytrain = torch.from_numpy(ytrain)\n",
    "xtest = torch.from_numpy(xtest)\n",
    "ytest = torch.from_numpy(ytest)\n",
    "print(xtrain.shape)\n",
    "print(ytrain.shape)\n",
    "print(xtest.shape)\n",
    "print(ytest.shape)"
   ]
  },
  {
   "cell_type": "code",
   "execution_count": 4,
   "id": "52852a0e-a563-4376-9cf1-9369ab35f1d1",
   "metadata": {},
   "outputs": [
    {
     "data": {
      "text/plain": [
       "{'train': <torch.utils.data.dataloader.DataLoader at 0x7f61f02f2eb0>,\n",
       " 'test': <torch.utils.data.dataloader.DataLoader at 0x7f61f02f27c0>}"
      ]
     },
     "execution_count": 4,
     "metadata": {},
     "output_type": "execute_result"
    }
   ],
   "source": [
    "from torch.utils.data import DataLoader,Dataset,TensorDataset\n",
    "import numpy\n",
    "\n",
    "class dealDataset(Dataset):\n",
    "  def __init__(self, dataset, labels, transform):\n",
    "    self.data=dataset\n",
    "    self.labels=labels\n",
    "    self.transform=transform\n",
    "    \n",
    "  def __len__(self):\n",
    "    return len(self.data)  \n",
    "  def __getitem__(self,idx):\n",
    "    data=self.data[idx].resize(1, 28, 28)\n",
    "    y=self.labels[idx]\n",
    "\n",
    "    if self.transform != None:\n",
    "      data=self.transform(data)\n",
    "\n",
    "    return (data,y)\n",
    "\n",
    "\n",
    "\n",
    "tsfms=transforms.Compose([\n",
    "#         transforms.Resize(255), \n",
    "#         transforms.CenterCrop(224),  \n",
    "#         transforms.RandomHorizontalFlip(),\n",
    "#         transforms.ToTensor(), \n",
    "#         transforms.Normalize([0.485, 0.456, 0.406], [0.229, 0.224, 0.225])\n",
    "]) \n",
    "train_data=dealDataset(xtrain, ytrain, tsfms)\n",
    "test_data=dealDataset(xtest, ytest, tsfms)\n",
    "\n",
    "loaders = {\n",
    "    'train': torch.utils.data.DataLoader(train_data,\n",
    "                        batch_size=32,\n",
    "                        shuffle=True,\n",
    "                        num_workers=0),\n",
    "    'test': torch.utils.data.DataLoader(test_data,\n",
    "                       batch_size=32,\n",
    "                       shuffle=True,\n",
    "                       num_workers=0),\n",
    "}\n",
    "loaders"
   ]
  },
  {
   "cell_type": "code",
   "execution_count": 5,
   "id": "53f5b09a-1b5b-4795-badd-644c15b191bc",
   "metadata": {},
   "outputs": [],
   "source": [
    "class CNN(nn.Module):\n",
    "    def __init__(self):\n",
    "        super(CNN, self).__init__()\n",
    "        # sefl.conv1 = nn.Conv2d()\n",
    "        self.conv1 = nn.Sequential(\n",
    "            nn.Conv2d(\n",
    "                in_channels=1,\n",
    "                out_channels=16,\n",
    "                kernel_size=5,\n",
    "                stride=1,\n",
    "                padding=2,\n",
    "            ),\n",
    "            nn.ReLU(),\n",
    "            nn.MaxPool2d(kernel_size=2),\n",
    "        )\n",
    "        # self.conv2 = nn.Sequential(\n",
    "        #     nn.Conv2d(16, 32, 5, 1, 2),\n",
    "        #     nn.ReLU(),\n",
    "        #     nn.MaxPool2d(2),\n",
    "        # )\n",
    "        self.out = nn.Linear(64 * 7 * 7, 10)\n",
    "    def forward(self, x):\n",
    "        x = self.conv1(x.float())\n",
    "        # x = self.conv2(x)\n",
    "        x = x.view(x.size(0), -1)\n",
    "        output = self.out(x)\n",
    "        return output, x    # return x for visualization"
   ]
  },
  {
   "cell_type": "code",
   "execution_count": 6,
   "id": "7a935f00-242e-4a6b-891e-c24f0c2185aa",
   "metadata": {},
   "outputs": [
    {
     "name": "stdout",
     "output_type": "stream",
     "text": [
      "CNN(\n",
      "  (conv1): Sequential(\n",
      "    (0): Conv2d(1, 16, kernel_size=(5, 5), stride=(1, 1), padding=(2, 2))\n",
      "    (1): ReLU()\n",
      "    (2): MaxPool2d(kernel_size=2, stride=2, padding=0, dilation=1, ceil_mode=False)\n",
      "  )\n",
      "  (out): Linear(in_features=3136, out_features=10, bias=True)\n",
      ")\n"
     ]
    }
   ],
   "source": [
    "cnn = CNN()\n",
    "# cnn = cnn.cuda()\n",
    "print(cnn)"
   ]
  },
  {
   "cell_type": "code",
   "execution_count": 7,
   "id": "d55929d4-358e-4b43-9bb6-68110d95c0f2",
   "metadata": {},
   "outputs": [
    {
     "data": {
      "text/plain": [
       "Adam (\n",
       "Parameter Group 0\n",
       "    amsgrad: False\n",
       "    betas: (0.9, 0.999)\n",
       "    eps: 1e-08\n",
       "    lr: 0.0003\n",
       "    weight_decay: 0\n",
       ")"
      ]
     },
     "execution_count": 7,
     "metadata": {},
     "output_type": "execute_result"
    }
   ],
   "source": [
    "loss_func = nn.CrossEntropyLoss()\n",
    "loss_func\n",
    "optimizer = optim.Adam(cnn.parameters(), lr=3e-4)\n",
    "optimizer"
   ]
  },
  {
   "cell_type": "code",
   "execution_count": 29,
   "id": "cab1bd54-238c-4d48-a2cd-0ef0edb184ec",
   "metadata": {},
   "outputs": [],
   "source": [
    "loss_list = []\n",
    "num_epochs = 10\n",
    "def train(num_epochs, cnn, loaders):\n",
    "    cnn.train()\n",
    "    # Traing the model\n",
    "    total_step = len(loaders['train'])\n",
    "    for epoch in range(num_epochs):\n",
    "        for i, (images, labels) in enumerate(loaders['train']):\n",
    "            # gives batch data, normalize x when iterate train_loader\n",
    "            b_x = Variable(images)   # batch x\n",
    "            b_y = Variable(labels)   # batch y\n",
    "            # print(cnn(b_x)[0])\n",
    "            output = cnn(b_x)[0] \n",
    "            # print(output.type(torch.LongTensor))\n",
    "            # output = output.label.long()\n",
    "            loss = loss_func(output, b_y.long())\n",
    "            loss_list.append(loss)\n",
    "            # clear gradients for this training step\n",
    "            optimizer.zero_grad()\n",
    "            # backpropagation, compute gradients\n",
    "            loss.backward()\n",
    "            # apply gradients\n",
    "            optimizer.step()\n",
    "            if (i+1) % 100 == 0:\n",
    "#                 print('Epoch [{}/{}], Step [{}/{}], Loss: {:.4f}' .format(epoch + 1, num_epochs, i + 1, total_step, loss.item()))\n",
    "                pass\n",
    "        pass\n",
    "    pass\n",
    "\n",
    "model = CNN()\n",
    "model.load_state_dict(torch.load(\"CNN_pred.pt\"))\n",
    "train(num_epochs, cnn, loaders)"
   ]
  },
  {
   "cell_type": "code",
   "execution_count": 30,
   "id": "438a124b-d633-41d4-9bee-4c4275775f41",
   "metadata": {},
   "outputs": [
    {
     "data": {
      "text/plain": [
       "[<matplotlib.lines.Line2D at 0x7f5f33e4ce80>]"
      ]
     },
     "execution_count": 30,
     "metadata": {},
     "output_type": "execute_result"
    },
    {
     "data": {
      "image/png": "[encoded data removed]",
      "text/plain": [
       "<Figure size 432x288 with 1 Axes>"
      ]
     },
     "metadata": {
      "needs_background": "light"
     },
     "output_type": "display_data"
    }
   ],
   "source": [
    "# loss_list = loss_list.detach().numpy()\n",
    "# print(type(loss_list))\n",
    "loss_list = [fl.item() for fl in loss_list ]\n",
    "plt.plot(range(len(loss_list)), loss_list)"
   ]
  },
  {
   "cell_type": "code",
   "execution_count": 31,
   "id": "6dba4ea5-dc9d-41f5-a8dc-ad9bdf487667",
   "metadata": {},
   "outputs": [
    {
     "name": "stdout",
     "output_type": "stream",
     "text": [
      "Test Accuracy of the model on the 634 test images: 0.86\n"
     ]
    }
   ],
   "source": [
    "def test():\n",
    "    # Test the model\n",
    "    cnn.eval()\n",
    "    accuracy = 0\n",
    "    total_count = 0\n",
    "    with torch.no_grad():\n",
    "        for images, labels in loaders['test']:\n",
    "            test_output, last_layer = cnn(images)\n",
    "            pred_y = torch.max(test_output, 1)[1].data.squeeze()\n",
    "            accuracy += (pred_y == labels).sum().item()\n",
    "            total_count += labels.size(0)\n",
    "            pass\n",
    "        accuracy = accuracy / total_count\n",
    "        print('Test Accuracy of the model on the 634 test images: %.2f' % accuracy)\n",
    "\n",
    "    pass\n",
    "test()"
   ]
  },
  {
   "cell_type": "code",
   "execution_count": 32,
   "id": "1a1fb833-a2d7-4a47-a16a-9482610d6cdf",
   "metadata": {},
   "outputs": [
    {
     "data": {
      "text/plain": [
       "[4, 6, 3, 2, 5, 7, 7, 4, 8, 0]"
      ]
     },
     "execution_count": 32,
     "metadata": {},
     "output_type": "execute_result"
    }
   ],
   "source": [
    "sample = next(iter(loaders['test']))\n",
    "imgs, lbls = sample\n",
    "actual_number = lbls[:10].int().tolist()\n",
    "actual_number"
   ]
  },
  {
   "cell_type": "code",
   "execution_count": 33,
   "id": "7817d267-f525-4a15-af53-38f601a642a4",
   "metadata": {},
   "outputs": [
    {
     "name": "stdout",
     "output_type": "stream",
     "text": [
      "Prediction number: [4 6 3 2 5 7 7 4 8 0]\n",
      "Actual number: [4, 6, 3, 2, 5, 7, 7, 4, 8, 0]\n"
     ]
    }
   ],
   "source": [
    "test_output, last_layer = cnn(imgs[:10])\n",
    "pred_y = torch.max(test_output, 1)[1].data.numpy().squeeze()\n",
    "print(f'Prediction number: {pred_y}')\n",
    "print(f'Actual number: {actual_number}')"
   ]
  },
  {
   "cell_type": "code",
   "execution_count": 34,
   "id": "fb6a702d-e3d0-4ee3-a55e-1c791142fed1",
   "metadata": {},
   "outputs": [
    {
     "name": "stdout",
     "output_type": "stream",
     "text": [
      "torch.Size([634])\n",
      "torch.Size([634])\n",
      "torch.Size([634, 1, 28, 28])\n"
     ]
    }
   ],
   "source": [
    "true, pred, imgs = [], [], []\n",
    "for images, labels in loaders['test']:\n",
    "    test_output, last_layer = cnn(images)\n",
    "    pred_y = torch.max(test_output, 1)[1].data.squeeze()\n",
    "    pred = torch.cat((torch.Tensor(pred), pred_y), dim=0)\n",
    "    imgs = torch.cat((torch.Tensor(imgs), images), dim=0)\n",
    "    true = torch.cat((torch.Tensor(true), labels), dim=0)\n",
    "    pass\n",
    "print(pred.shape)\n",
    "print(true.shape)\n",
    "# print(torch.equal(pred, true))\n",
    "print(imgs.shape)"
   ]
  },
  {
   "cell_type": "code",
   "execution_count": 35,
   "id": "610165db-7a87-40cf-9bcc-74d90ea9ec7f",
   "metadata": {},
   "outputs": [
    {
     "data": {
      "image/png": "[encoded data removed]",
      "text/plain": [
       "<Figure size 720x1440 with 25 Axes>"
      ]
     },
     "metadata": {
      "needs_background": "light"
     },
     "output_type": "display_data"
    }
   ],
   "source": [
    "# print(train_data.data.size())\n",
    "figure = plt.figure(figsize=(10, 20)) # 圖片大小\n",
    "cols, rows = 5, 5\n",
    "for i in range(1, cols * rows + 1):\n",
    "    sample_idx = torch.randint(634, size=(1,)).item()\n",
    "    label = pred[sample_idx] # 隨機print圖\n",
    "    label_ = true[sample_idx] # 隨機print圖\n",
    "    img = imgs[sample_idx]\n",
    "    figure.add_subplot(rows, cols, i) # 排序\n",
    "    plt.title('true:' + str(int(label_.tolist())) + ', pred:' + str(int(label.tolist())))\n",
    "    plt.axis(\"off\")\n",
    "    plt.imshow(img.squeeze(), cmap=\"gray\")\n",
    "plt.show()"
   ]
  },
  {
   "cell_type": "code",
   "execution_count": null,
   "id": "66b1a93c-35be-4936-98ee-e6705c9762b1",
   "metadata": {},
   "outputs": [],
   "source": []
  }
 ],
 "metadata": {
  "kernelspec": {
   "display_name": "Pytorch",
   "language": "python",
   "name": "pytorch"
  },
  "language_info": {
   "codemirror_mode": {
    "name": "ipython",
    "version": 3
   },
   "file_extension": ".py",
   "mimetype": "text/x-python",
   "name": "python",
   "nbconvert_exporter": "python",
   "pygments_lexer": "ipython3",
   "version": "3.9.7"
  }
 },
 "nbformat": 4,
 "nbformat_minor": 5
}
