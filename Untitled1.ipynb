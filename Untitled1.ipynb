{
 "cells": [
  {
   "cell_type": "code",
   "execution_count": 1,
   "id": "57a185ed-cc9a-4a03-a083-63b0f838a89d",
   "metadata": {},
   "outputs": [
    {
     "name": "stderr",
     "output_type": "stream",
     "text": [
      "2022-01-09 22:57:44.638591: W tensorflow/stream_executor/platform/default/dso_loader.cc:64] Could not load dynamic library 'libcudart.so.11.0'; dlerror: libcudart.so.11.0: cannot open shared object file: No such file or directory\n",
      "2022-01-09 22:57:44.638632: I tensorflow/stream_executor/cuda/cudart_stub.cc:29] Ignore above cudart dlerror if you do not have a GPU set up on your machine.\n"
     ]
    }
   ],
   "source": [
    "import os\n",
    "import numpy as np\n",
    "import gzip\n",
    "from tensorflow import keras\n",
    "\n",
    "# print(os.getcwd())\n",
    "\n",
    "def load_data(data_folder):\n",
    "\n",
    "  files = [\n",
    "      'train-labels-idx1-ubyte.gz', 'train-images-idx3-ubyte.gz',\n",
    "      'test-labels-idx1-ubyte.gz', 'test-images-idx3-ubyte.gz'\n",
    "  ]\n",
    "\n",
    "  paths = []\n",
    "  for fname in files:\n",
    "    paths.append(os.path.join(data_folder,fname))\n",
    "  \n",
    "\n",
    "  with gzip.open(paths[0], 'rb') as lbpath:\n",
    "    y_train = np.frombuffer(lbpath.read(), np.uint8, offset=8)\n",
    "\n",
    "  with gzip.open(paths[1], 'rb') as imgpath:\n",
    "    x_train = np.frombuffer(\n",
    "        imgpath.read(), np.uint8, offset=16).reshape(len(y_train), 28, 28)\n",
    "\n",
    "  with gzip.open(paths[2], 'rb') as lbpath:\n",
    "    y_test = np.frombuffer(lbpath.read(), np.uint8, offset=8)\n",
    "\n",
    "  with gzip.open(paths[3], 'rb') as imgpath:\n",
    "    x_test = np.frombuffer(\n",
    "        imgpath.read(), np.uint8, offset=16).reshape(len(y_test), 28, 28)\n",
    "\n",
    "  return (x_train, y_train), (x_test, y_test)\n",
    "\n",
    "(train_images, train_labels), (test_images, test_labels) = load_data('JPG-PNG-to-MNIST-NN-Format-master/')"
   ]
  },
  {
   "cell_type": "code",
   "execution_count": 2,
   "id": "67909c64-7dc0-4c90-b8c0-402393180bbf",
   "metadata": {},
   "outputs": [
    {
     "name": "stdout",
     "output_type": "stream",
     "text": [
      "<class 'numpy.ndarray'>\n",
      "<class 'numpy.ndarray'>\n",
      "Type is same, concat/merge datasets...\n",
      "[[[  0   0  51 ...   0   0   0]\n",
      "  [  0  51  51 ...   0   0   0]\n",
      "  [  0   0   0 ...   0   0   0]\n",
      "  ...\n",
      "  [ 51  51  51 ...   0  51   0]\n",
      "  [ 51  51  51 ...  51  51   0]\n",
      "  [  0   0   0 ...   0   0   0]]\n",
      "\n",
      " [[  0  12   0 ...  12  12   0]\n",
      "  [ 12   0   0 ...  12  12   0]\n",
      "  [  0   0   0 ...   0   0   0]\n",
      "  ...\n",
      "  [  0   0   0 ...   0   0   0]\n",
      "  [ 12  12   0 ...  12   0   0]\n",
      "  [  0   0   0 ...   0   0   0]]\n",
      "\n",
      " [[  0 107   0 ... 107 107   0]\n",
      "  [107   0   0 ... 107   0   0]\n",
      "  [107 107 107 ... 107 107   0]\n",
      "  ...\n",
      "  [107   0 107 ...   0   0   0]\n",
      "  [107   0 107 ...   0 107   0]\n",
      "  [  0   0   0 ...   0   0   0]]\n",
      "\n",
      " ...\n",
      "\n",
      " [[  0   0   0 ...   0   0   0]\n",
      "  [  0   0   0 ...   0   0   0]\n",
      "  [  0   0   0 ...   0   0   0]\n",
      "  ...\n",
      "  [  0   0   0 ...   0   0   0]\n",
      "  [  0   0   0 ...   0   0   0]\n",
      "  [  0   0   0 ...   0   0   0]]\n",
      "\n",
      " [[  0   0   0 ...   0   0   0]\n",
      "  [  0   0   0 ...   0   0   0]\n",
      "  [  0   0   0 ...   0   0   0]\n",
      "  ...\n",
      "  [  0   0   0 ...   0   0   0]\n",
      "  [  0   0   0 ...   0   0   0]\n",
      "  [  0   0   0 ...   0   0   0]]\n",
      "\n",
      " [[  0   0   0 ...   0   0   0]\n",
      "  [  0   0   0 ...   0   0   0]\n",
      "  [  0   0   0 ...   0   0   0]\n",
      "  ...\n",
      "  [  0   0   0 ...   0   0   0]\n",
      "  [  0   0   0 ...   0   0   0]\n",
      "  [  0   0   0 ...   0   0   0]]]\n",
      "[7 4 1 ... 5 6 8]\n",
      "Merge successed.\n"
     ]
    }
   ],
   "source": [
    "(train_images_old, train_labels_old), (test_images_old, test_labels_old) = keras.datasets.mnist.load_data()\n",
    "\n",
    "#https://stackoverflow.com/questions/43153076/how-to-concatenate-numpy-arrays-into-a-specific-shape\n",
    "#must have same dim\n",
    "train_images_old = train_images_old.reshape(train_images_old.shape[0], 28, 28)\n",
    "test_images_old = test_images_old.reshape(test_images_old.shape[0], 28, 28)\n",
    "print(type(train_images))\n",
    "print(type(train_images_old))\n",
    "# train_images, train_labels, test_images, test_labels = [None, None, None, None]\n",
    "\n",
    "if type(train_images_old) == type(train_images):\n",
    "    print(\"Type is same, concat/merge datasets...\")\n",
    "    train_images = np.concatenate((train_images, train_images_old))\n",
    "    train_labels = np.concatenate((train_labels, train_labels_old))\n",
    "    print(train_images)\n",
    "    print(train_labels)\n",
    "    test_images = np.concatenate((test_images, test_images_old))\n",
    "    test_labels = np.concatenate((test_labels, test_labels_old))\n",
    "    print(\"Merge successed.\")"
   ]
  },
  {
   "cell_type": "code",
   "execution_count": 3,
   "id": "e24381dd-e9bf-4768-b3b4-399a7a405e72",
   "metadata": {},
   "outputs": [],
   "source": [
    "import numpy as np\n",
    "from keras.datasets import mnist\n",
    "import matplotlib.pyplot as plt\n",
    "from tqdm import tqdm\n",
    "from torchvision import transforms\n",
    "import torch.nn as nn\n",
    "from torch.utils.data import DataLoader,Dataset\n",
    "import torch\n",
    "import torch.optim as optim\n",
    "from torch.autograd import Variable\n",
    "\n",
    "\n",
    "def add_noise(img,noise_type=\"gaussian\"):\n",
    "  \n",
    "  row,col=28,28\n",
    "  img=img.astype(np.float32)\n",
    "  \n",
    "  if noise_type==\"gaussian\":\n",
    "    mean=0\n",
    "    var=10\n",
    "    sigma=var**.5\n",
    "    noise=np.random.normal(-5.9,5.9,img.shape)\n",
    "    noise=noise.reshape(row,col)\n",
    "    img=img+noise\n",
    "    return img\n",
    "\n",
    "  if noise_type==\"speckle\":\n",
    "    noise=np.random.randn(row,col)\n",
    "    noise=noise.reshape(row,col)\n",
    "    img=img+img*noise\n",
    "    return img"
   ]
  },
  {
   "cell_type": "code",
   "execution_count": 4,
   "id": "f1d2485a-8d3b-464e-8acc-725194dd18ad",
   "metadata": {},
   "outputs": [
    {
     "name": "stdout",
     "output_type": "stream",
     "text": [
      "No of training datapoints:60152\n",
      "No of Test datapoints:11514\n",
      "(60152, 28, 28)\n",
      "(60152,)\n",
      "(11514, 28, 28)\n",
      "(11514,)\n"
     ]
    }
   ],
   "source": [
    "#Here we load the dataset from keras\n",
    "xtrain = train_images\n",
    "ytrain = train_labels\n",
    "xtest = test_images\n",
    "ytest = test_labels\n",
    "print(\"No of training datapoints:{}\\nNo of Test datapoints:{}\".format(len(xtrain),len(xtest)))\n",
    "print(xtrain.shape)\n",
    "print(ytrain.shape)\n",
    "print(xtest.shape)\n",
    "print(ytest.shape)"
   ]
  },
  {
   "cell_type": "code",
   "execution_count": 5,
   "id": "124df712-d83e-464b-a075-68586413eb3e",
   "metadata": {},
   "outputs": [
    {
     "name": "stderr",
     "output_type": "stream",
     "text": [
      " 58%|█████▊    | 34846/60152 [00:01<00:01, 22005.75it/s]"
     ]
    },
    {
     "name": "stdout",
     "output_type": "stream",
     "text": [
      "\n",
      "gaussian noise addition completed to images\n"
     ]
    },
    {
     "name": "stderr",
     "output_type": "stream",
     "text": [
      "100%|██████████| 60152/60152 [00:02<00:00, 21735.93it/s]\n"
     ]
    },
    {
     "name": "stdout",
     "output_type": "stream",
     "text": [
      "\n",
      "speckle noise addition completed to images\n"
     ]
    },
    {
     "name": "stderr",
     "output_type": "stream",
     "text": [
      " 74%|███████▍  | 8501/11514 [00:00<00:00, 21873.58it/s]"
     ]
    },
    {
     "name": "stdout",
     "output_type": "stream",
     "text": [
      "\n",
      "gaussian noise addition completed to images\n"
     ]
    },
    {
     "name": "stderr",
     "output_type": "stream",
     "text": [
      "100%|██████████| 11514/11514 [00:00<00:00, 21808.92it/s]"
     ]
    },
    {
     "name": "stdout",
     "output_type": "stream",
     "text": [
      "\n",
      "speckle noise addition completed to images\n"
     ]
    },
    {
     "name": "stderr",
     "output_type": "stream",
     "text": [
      "\n"
     ]
    }
   ],
   "source": [
    "noises=[\"gaussian\",\"speckle\"]\n",
    "noise_ct=0\n",
    "noise_id=0\n",
    "traindata=np.zeros((60152,28,28))\n",
    "\n",
    "\n",
    "\n",
    "for idx in tqdm(range(len(xtrain))):\n",
    "  \n",
    "  if noise_ct<(len(xtrain)/2):\n",
    "    noise_ct+=1\n",
    "    traindata[idx]=add_noise(xtrain[idx],noise_type=noises[noise_id])\n",
    "    \n",
    "  else:\n",
    "    print(\"\\n{} noise addition completed to images\".format(noises[noise_id]))\n",
    "    noise_id+=1\n",
    "    noise_ct=0\n",
    "\n",
    "\n",
    "print(\"\\n{} noise addition completed to images\".format(noises[noise_id])) \n",
    "\n",
    "\n",
    "\n",
    "\n",
    "noise_ct=0\n",
    "noise_id=0\n",
    "testdata=np.zeros((11514,28,28))\n",
    "\n",
    "for idx in tqdm(range(len(xtest))):\n",
    "  \n",
    "  if noise_ct<(len(xtest)/2):\n",
    "    noise_ct+=1\n",
    "    x=add_noise(xtest[idx],noise_type=noises[noise_id])\n",
    "    testdata[idx]=x\n",
    "    \n",
    "  else:\n",
    "    print(\"\\n{} noise addition completed to images\".format(noises[noise_id]))\n",
    "    noise_id+=1\n",
    "    noise_ct=0\n",
    "\n",
    "\n",
    "print(\"\\n{} noise addition completed to images\".format(noises[noise_id])) "
   ]
  },
  {
   "cell_type": "code",
   "execution_count": 6,
   "id": "d08629fb-6976-46f8-ab92-34018332bf39",
   "metadata": {},
   "outputs": [
    {
     "data": {
      "text/plain": [
       "Text(0.5, 1.0, 'Noised Image')"
      ]
     },
     "execution_count": 6,
     "metadata": {},
     "output_type": "execute_result"
    },
    {
     "data": {
      "image/png": "[encoded data removed]",
      "text/plain": [
       "<Figure size 432x288 with 4 Axes>"
      ]
     },
     "metadata": {
      "needs_background": "light"
     },
     "output_type": "display_data"
    }
   ],
   "source": [
    "f, axes=plt.subplots(2,2)\n",
    "\n",
    "#showing images with gaussian noise\n",
    "axes[0,0].imshow(xtrain[0],cmap=\"gray\")\n",
    "axes[0,0].set_title(\"Original Image\")\n",
    "axes[1,0].imshow(traindata[0],cmap='gray')\n",
    "axes[1,0].set_title(\"Noised Image\")\n",
    "\n",
    "#showing images with speckle noise\n",
    "axes[0,1].imshow(xtrain[25000],cmap='gray')\n",
    "axes[0,1].set_title(\"Original Image\")\n",
    "axes[1,1].imshow(traindata[25000],cmap=\"gray\")\n",
    "axes[1,1].set_title(\"Noised Image\")"
   ]
  },
  {
   "cell_type": "code",
   "execution_count": 7,
   "id": "82486533-3c7b-43d1-8810-f84f62b8390b",
   "metadata": {},
   "outputs": [],
   "source": [
    "class noisedDataset(Dataset):\n",
    "  \n",
    "  def __init__(self,datasetnoised,datasetclean,labels,transform):\n",
    "    self.noise=datasetnoised\n",
    "    self.clean=datasetclean\n",
    "    self.labels=labels\n",
    "    self.transform=transform\n",
    "  \n",
    "  def __len__(self):\n",
    "    return len(self.noise)\n",
    "  \n",
    "  def __getitem__(self,idx):\n",
    "    xNoise=self.noise[idx]\n",
    "    xClean=self.clean[idx]\n",
    "    y=self.labels[idx]\n",
    "    \n",
    "    if self.transform != None:\n",
    "      xNoise=self.transform(xNoise)\n",
    "      xClean=self.transform(xClean)\n",
    "      \n",
    "    \n",
    "    return (xNoise,xClean,y)"
   ]
  },
  {
   "cell_type": "code",
   "execution_count": 8,
   "id": "1ea77ee3-b8a4-4f17-bddb-c21712c80d0c",
   "metadata": {},
   "outputs": [],
   "source": [
    "tsfms=transforms.Compose([\n",
    "    transforms.ToTensor()\n",
    "])\n",
    "\n",
    "trainset=noisedDataset(traindata,xtrain,ytrain,tsfms)\n",
    "testset=noisedDataset(testdata,xtest,ytest,tsfms)"
   ]
  },
  {
   "cell_type": "code",
   "execution_count": 9,
   "id": "71a76ef3-d330-4ee9-8d03-88c9bebfebe6",
   "metadata": {},
   "outputs": [],
   "source": [
    "batch_size=32\n",
    "\n",
    "\n",
    "\n",
    "trainloader=DataLoader(trainset,batch_size=32,shuffle=True)\n",
    "testloader=DataLoader(testset,batch_size=1,shuffle=True)"
   ]
  },
  {
   "cell_type": "code",
   "execution_count": 10,
   "id": "b99eed8f-31de-4ddc-8204-5c2fe639b27a",
   "metadata": {},
   "outputs": [],
   "source": [
    "class denoising_model(nn.Module):\n",
    "  def __init__(self):\n",
    "    super(denoising_model,self).__init__()\n",
    "    self.encoder=nn.Sequential(\n",
    "                  nn.Linear(28*28,256),\n",
    "                  nn.ReLU(True),\n",
    "                  nn.Linear(256,128),\n",
    "                  nn.ReLU(True),\n",
    "                  nn.Linear(128,64),\n",
    "                  nn.ReLU(True)\n",
    "        \n",
    "                  )\n",
    "    \n",
    "    self.decoder=nn.Sequential(\n",
    "                  nn.Linear(64,128),\n",
    "                  nn.ReLU(True),\n",
    "                  nn.Linear(128,256),\n",
    "                  nn.ReLU(True),\n",
    "                  nn.Linear(256,28*28),\n",
    "                  nn.Sigmoid(),\n",
    "                  )\n",
    "    \n",
    " \n",
    "  def forward(self,x):\n",
    "    x=self.encoder(x)\n",
    "    x=self.decoder(x)\n",
    "    \n",
    "    return x"
   ]
  },
  {
   "cell_type": "code",
   "execution_count": 11,
   "id": "1043d774-279f-4c5f-bd86-f32fd12ba066",
   "metadata": {},
   "outputs": [
    {
     "data": {
      "text/plain": [
       "<All keys matched successfully>"
      ]
     },
     "execution_count": 11,
     "metadata": {},
     "output_type": "execute_result"
    }
   ],
   "source": [
    "if torch.cuda.is_available()==True:\n",
    "  device=\"cuda:0\"\n",
    "else:\n",
    "  device =\"cpu\"  \n",
    "# model=denoising_model().to(device)\n",
    "# criterion=nn.MSELoss()\n",
    "# optimizer=optim.SGD(model.parameters(),lr=0.01,weight_decay=1e-5)\n",
    "# epochs=120\n",
    "# l=len(trainloader)\n",
    "# losslist=list()\n",
    "# epochloss=0\n",
    "# running_loss=0\n",
    "# for epoch in range(epochs):\n",
    "#   print(\"Entering Epoch: \",epoch)\n",
    "#   for dirty,clean,label in tqdm((trainloader)):\n",
    "#     dirty=dirty.view(dirty.size(0),-1).type(torch.FloatTensor)\n",
    "#     clean=clean.view(clean.size(0),-1).type(torch.FloatTensor)\n",
    "#     dirty,clean=dirty.to(device),clean.to(device)\n",
    "#     #-----------------Forward Pass----------------------\n",
    "#     output=model(dirty)\n",
    "#     loss=criterion(output,clean)\n",
    "#     #-----------------Backward Pass---------------------\n",
    "#     optimizer.zero_grad()\n",
    "#     loss.backward()\n",
    "#     optimizer.step()\n",
    "    \n",
    "#     running_loss+=loss.item()\n",
    "#     epochloss+=loss.item()\n",
    "#   #-----------------Log-------------------------------\n",
    "#   losslist.append(running_loss/l)\n",
    "#   running_loss=0\n",
    "#   print(\"======> epoch: {}/{}, Loss:{}\".format(epoch,epochs,loss.item()))\n",
    "    \n",
    "model = denoising_model()\n",
    "model.load_state_dict(torch.load(\"DAE.pt\", map_location=device))"
   ]
  },
  {
   "cell_type": "code",
   "execution_count": 12,
   "id": "b19f49e9-9cf6-49a3-9f13-b0ceeee18940",
   "metadata": {},
   "outputs": [],
   "source": [
    "# plt.plot(range(len(losslist)),losslist)"
   ]
  },
  {
   "cell_type": "code",
   "execution_count": 13,
   "id": "7140d45f-ae00-4a4a-a378-694c2a19a7ab",
   "metadata": {},
   "outputs": [
    {
     "data": {
      "image/png": "[encoded data removed]",
      "text/plain": [
       "<Figure size 1440x1440 with 18 Axes>"
      ]
     },
     "metadata": {
      "needs_background": "light"
     },
     "output_type": "display_data"
    }
   ],
   "source": [
    "f,axes= plt.subplots(6,3,figsize=(20,20))\n",
    "axes[0,0].set_title(\"Original Image\")\n",
    "axes[0,1].set_title(\"Dirty Image\")\n",
    "axes[0,2].set_title(\"Cleaned Image\")\n",
    "\n",
    "test_imgs=np.random.randint(0,11514,size=6)\n",
    "for idx in range((6)):\n",
    "  dirty=testset[test_imgs[idx]][0]\n",
    "  clean=testset[test_imgs[idx]][1]\n",
    "  label=testset[test_imgs[idx]][2]\n",
    "  dirty=dirty.view(dirty.size(0),-1).type(torch.FloatTensor)\n",
    "  dirty=dirty.to(device)\n",
    "  output=model.to(device)(dirty)\n",
    "  \n",
    "  output=output.view(1,28,28)\n",
    "  output=output.permute(1,2,0).squeeze(2)\n",
    "  output=output.detach().cpu().numpy()\n",
    "  \n",
    "  dirty=dirty.view(1,28,28)\n",
    "  dirty=dirty.permute(1,2,0).squeeze(2)\n",
    "  dirty=dirty.detach().cpu().numpy()\n",
    "  \n",
    "  clean=clean.permute(1,2,0).squeeze(2)\n",
    "  clean=clean.detach().cpu().numpy()\n",
    "  \n",
    "  axes[idx,0].imshow(clean,cmap=\"gray\")\n",
    "  axes[idx,1].imshow(dirty,cmap=\"gray\")\n",
    "  axes[idx,2].imshow(output,cmap=\"gray\")"
   ]
  },
  {
   "cell_type": "code",
   "execution_count": 14,
   "id": "852ca6f8-108c-4f11-a198-5ca3101ea8a8",
   "metadata": {},
   "outputs": [
    {
     "name": "stderr",
     "output_type": "stream",
     "text": [
      "/tmp/ipykernel_2083851/2146269973.py:8: UserWarning: To copy construct from a tensor, it is recommended to use sourceTensor.clone().detach() or sourceTensor.clone().detach().requires_grad_(True), rather than torch.tensor(sourceTensor).\n",
      "  test_re=torch.cat((torch.Tensor(test_re), torch.tensor(labels)), dim=0)\n"
     ]
    },
    {
     "name": "stdout",
     "output_type": "stream",
     "text": [
      "torch.Size([11514, 28, 28])\n",
      "torch.Size([11514])\n"
     ]
    }
   ],
   "source": [
    "test_pred, test_re = [], []\n",
    "for dirty, clean, labels in testloader:\n",
    "    # print(dirty.shape)\n",
    "    dirty=dirty.view(dirty.size(0),-1).type(torch.FloatTensor).to(device)\n",
    "    test_output=model(dirty)# 32x784 and 784x256\n",
    "    pred_y=test_output.view(1,28,28).detach().cpu().numpy()\n",
    "    test_pred=torch.cat((torch.Tensor(test_pred), torch.tensor(pred_y)), dim=0)\n",
    "    test_re=torch.cat((torch.Tensor(test_re), torch.tensor(labels)), dim=0)\n",
    "    pass\n",
    "print(test_pred.shape)\n",
    "print(test_re.shape)"
   ]
  },
  {
   "cell_type": "code",
   "execution_count": 15,
   "id": "08f6ac22-09ed-4386-ad02-d1ead311b648",
   "metadata": {},
   "outputs": [
    {
     "name": "stderr",
     "output_type": "stream",
     "text": [
      "/tmp/ipykernel_2083851/3226588843.py:7: UserWarning: To copy construct from a tensor, it is recommended to use sourceTensor.clone().detach() or sourceTensor.clone().detach().requires_grad_(True), rather than torch.tensor(sourceTensor).\n",
      "  train_re = torch.cat((torch.Tensor(train_re), torch.tensor(labels)), dim=0)\n"
     ]
    },
    {
     "name": "stdout",
     "output_type": "stream",
     "text": [
      "torch.Size([60152, 28, 28])\n",
      "torch.Size([60152])\n"
     ]
    }
   ],
   "source": [
    "train_pred, train_re = [], []\n",
    "for dirty, clean, labels in trainloader:\n",
    "    dirty=dirty.view(dirty.size(0),-1).type(torch.FloatTensor)\n",
    "    train_output = model(dirty.to(device))\n",
    "    pred_y=train_output.view(-1,28,28).detach().cpu().numpy()\n",
    "    train_pred = torch.cat((torch.Tensor(train_pred), torch.tensor(pred_y)), dim=0)\n",
    "    train_re = torch.cat((torch.Tensor(train_re), torch.tensor(labels)), dim=0)\n",
    "    pass\n",
    "print(train_pred.shape)\n",
    "print(train_re.shape)"
   ]
  },
  {
   "cell_type": "code",
   "execution_count": 16,
   "id": "4d764dc4-5901-482e-ad28-043addf16c20",
   "metadata": {},
   "outputs": [
    {
     "name": "stdout",
     "output_type": "stream",
     "text": [
      "train_size: torch.Size([60152, 28, 28])\n",
      "train_target_size: torch.Size([60152])\n",
      "test_size: torch.Size([11514, 28, 28])\n",
      "test_target_size: torch.Size([11514])\n"
     ]
    }
   ],
   "source": [
    "print('train_size:',train_pred.size())\n",
    "print('train_target_size:', train_re.size())\n",
    "print('test_size:',test_pred.size())\n",
    "print('test_target_size:', test_re.size())"
   ]
  },
  {
   "cell_type": "code",
   "execution_count": 17,
   "id": "52852a0e-a563-4376-9cf1-9369ab35f1d1",
   "metadata": {},
   "outputs": [
    {
     "data": {
      "text/plain": [
       "{'train': <torch.utils.data.dataloader.DataLoader at 0x7f17e113f6a0>,\n",
       " 'test': <torch.utils.data.dataloader.DataLoader at 0x7f17e113f640>}"
      ]
     },
     "execution_count": 17,
     "metadata": {},
     "output_type": "execute_result"
    }
   ],
   "source": [
    "class dealDataset(Dataset):\n",
    "  def __init__(self, dataset, labels, transform):\n",
    "    self.data=dataset\n",
    "    self.labels=labels\n",
    "    self.transform=transform\n",
    "    \n",
    "  def __len__(self):\n",
    "    return len(self.data)  \n",
    "  def __getitem__(self,idx):\n",
    "    data=self.data[idx].resize(1, 28, 28)\n",
    "    y=self.labels[idx]\n",
    "\n",
    "    if self.transform != None:\n",
    "      data=self.transform(data)\n",
    "\n",
    "    return (data,y)\n",
    "\n",
    "      \n",
    "tsfms=transforms.Compose([\n",
    "    # transforms.Resize((1, 28, 28)),\n",
    "    #  transforms.RandomRotation((-180, 180)),\n",
    "    #  transforms.CenterCrop(28),\n",
    "    #  transforms.Normalize((0.48),(0.25))\n",
    "    # transforms.ToTensor()\n",
    "])  \n",
    "train_data=dealDataset(train_pred, train_re, tsfms)\n",
    "test_data=dealDataset(test_pred, test_re, tsfms)\n",
    "\n",
    "loaders = {\n",
    "    'train': torch.utils.data.DataLoader(train_data,\n",
    "                        batch_size=32,\n",
    "                        shuffle=True,\n",
    "                        num_workers=0),\n",
    "    'test': torch.utils.data.DataLoader(test_data,\n",
    "                       batch_size=32,\n",
    "                       shuffle=True,\n",
    "                       num_workers=0),\n",
    "}\n",
    "loaders"
   ]
  },
  {
   "cell_type": "code",
   "execution_count": 18,
   "id": "53f5b09a-1b5b-4795-badd-644c15b191bc",
   "metadata": {},
   "outputs": [],
   "source": [
    "class CNN(nn.Module):\n",
    "    def __init__(self):\n",
    "        super(CNN, self).__init__()\n",
    "        # sefl.conv1 = nn.Conv2d()\n",
    "        self.conv1 = nn.Sequential(\n",
    "            nn.Conv2d(\n",
    "                in_channels=1,\n",
    "                out_channels=16,\n",
    "                kernel_size=5,\n",
    "                stride=1,\n",
    "                padding=2,\n",
    "            ),\n",
    "            nn.ReLU(),\n",
    "            nn.MaxPool2d(kernel_size=2),\n",
    "        )\n",
    "        # self.conv2 = nn.Sequential(\n",
    "        #     nn.Conv2d(16, 32, 5, 1, 2),\n",
    "        #     nn.ReLU(),\n",
    "        #     nn.MaxPool2d(2),\n",
    "        # )\n",
    "        self.out = nn.Linear(64 * 7 * 7, 10)\n",
    "    def forward(self, x):\n",
    "        x = self.conv1(x)\n",
    "        # x = self.conv2(x)\n",
    "        x = x.view(x.size(0), -1)\n",
    "        output = self.out(x)\n",
    "        return output, x    # return x for visualization"
   ]
  },
  {
   "cell_type": "code",
   "execution_count": 19,
   "id": "7a935f00-242e-4a6b-891e-c24f0c2185aa",
   "metadata": {},
   "outputs": [
    {
     "name": "stdout",
     "output_type": "stream",
     "text": [
      "CNN(\n",
      "  (conv1): Sequential(\n",
      "    (0): Conv2d(1, 16, kernel_size=(5, 5), stride=(1, 1), padding=(2, 2))\n",
      "    (1): ReLU()\n",
      "    (2): MaxPool2d(kernel_size=2, stride=2, padding=0, dilation=1, ceil_mode=False)\n",
      "  )\n",
      "  (out): Linear(in_features=3136, out_features=10, bias=True)\n",
      ")\n"
     ]
    }
   ],
   "source": [
    "cnn = CNN()\n",
    "# cnn = cnn.cuda()\n",
    "print(cnn)"
   ]
  },
  {
   "cell_type": "code",
   "execution_count": 20,
   "id": "d55929d4-358e-4b43-9bb6-68110d95c0f2",
   "metadata": {},
   "outputs": [
    {
     "data": {
      "text/plain": [
       "Adam (\n",
       "Parameter Group 0\n",
       "    amsgrad: False\n",
       "    betas: (0.9, 0.999)\n",
       "    eps: 1e-08\n",
       "    lr: 0.0003\n",
       "    weight_decay: 0\n",
       ")"
      ]
     },
     "execution_count": 20,
     "metadata": {},
     "output_type": "execute_result"
    }
   ],
   "source": [
    "loss_func = nn.CrossEntropyLoss()\n",
    "loss_func\n",
    "optimizer = optim.Adam(cnn.parameters(), lr=3e-4)\n",
    "optimizer"
   ]
  },
  {
   "cell_type": "code",
   "execution_count": 21,
   "id": "cab1bd54-238c-4d48-a2cd-0ef0edb184ec",
   "metadata": {},
   "outputs": [
    {
     "name": "stderr",
     "output_type": "stream",
     "text": [
      "/opt/miniconda3/envs/Pytorch/lib/python3.9/site-packages/torch/_tensor.py:490: UserWarning: non-inplace resize is deprecated\n",
      "  warnings.warn(\"non-inplace resize is deprecated\")\n",
      "/opt/miniconda3/envs/Pytorch/lib/python3.9/site-packages/torch/nn/functional.py:718: UserWarning: Named tensors and all their associated APIs are an experimental feature and subject to change. Please do not use them for anything important until they are released as stable. (Triggered internally at  /opt/conda/conda-bld/pytorch_1623448255797/work/c10/core/TensorImpl.h:1156.)\n",
      "  return torch.max_pool2d(input, kernel_size, stride, padding, dilation, ceil_mode)\n"
     ]
    },
    {
     "name": "stdout",
     "output_type": "stream",
     "text": [
      "Epoch [1/10], Step [100/1880], Loss: 0.9438\n",
      "Epoch [1/10], Step [200/1880], Loss: 0.6321\n",
      "Epoch [1/10], Step [300/1880], Loss: 0.3959\n",
      "Epoch [1/10], Step [400/1880], Loss: 0.5103\n",
      "Epoch [1/10], Step [500/1880], Loss: 0.4124\n",
      "Epoch [1/10], Step [600/1880], Loss: 0.6744\n",
      "Epoch [1/10], Step [700/1880], Loss: 0.4759\n",
      "Epoch [1/10], Step [800/1880], Loss: 0.3401\n",
      "Epoch [1/10], Step [900/1880], Loss: 0.4636\n",
      "Epoch [1/10], Step [1000/1880], Loss: 0.3585\n",
      "Epoch [1/10], Step [1100/1880], Loss: 0.4022\n",
      "Epoch [1/10], Step [1200/1880], Loss: 0.4527\n",
      "Epoch [1/10], Step [1300/1880], Loss: 0.4780\n",
      "Epoch [1/10], Step [1400/1880], Loss: 0.2469\n",
      "Epoch [1/10], Step [1500/1880], Loss: 0.2876\n",
      "Epoch [1/10], Step [1600/1880], Loss: 0.1933\n",
      "Epoch [1/10], Step [1700/1880], Loss: 0.3265\n",
      "Epoch [1/10], Step [1800/1880], Loss: 0.3657\n",
      "Epoch [2/10], Step [100/1880], Loss: 0.1244\n",
      "Epoch [2/10], Step [200/1880], Loss: 0.6537\n",
      "Epoch [2/10], Step [300/1880], Loss: 0.4303\n",
      "Epoch [2/10], Step [400/1880], Loss: 0.3759\n",
      "Epoch [2/10], Step [500/1880], Loss: 0.3030\n",
      "Epoch [2/10], Step [600/1880], Loss: 0.4210\n",
      "Epoch [2/10], Step [700/1880], Loss: 0.2052\n",
      "Epoch [2/10], Step [800/1880], Loss: 0.2224\n",
      "Epoch [2/10], Step [900/1880], Loss: 0.4732\n",
      "Epoch [2/10], Step [1000/1880], Loss: 0.0998\n",
      "Epoch [2/10], Step [1100/1880], Loss: 0.2706\n",
      "Epoch [2/10], Step [1200/1880], Loss: 0.2061\n",
      "Epoch [2/10], Step [1300/1880], Loss: 0.1993\n",
      "Epoch [2/10], Step [1400/1880], Loss: 0.1383\n",
      "Epoch [2/10], Step [1500/1880], Loss: 0.2419\n",
      "Epoch [2/10], Step [1600/1880], Loss: 0.1515\n",
      "Epoch [2/10], Step [1700/1880], Loss: 0.6084\n",
      "Epoch [2/10], Step [1800/1880], Loss: 0.0719\n",
      "Epoch [3/10], Step [100/1880], Loss: 0.2776\n",
      "Epoch [3/10], Step [200/1880], Loss: 0.2507\n",
      "Epoch [3/10], Step [300/1880], Loss: 0.2188\n",
      "Epoch [3/10], Step [400/1880], Loss: 0.1913\n",
      "Epoch [3/10], Step [500/1880], Loss: 0.4991\n",
      "Epoch [3/10], Step [600/1880], Loss: 0.2772\n",
      "Epoch [3/10], Step [700/1880], Loss: 0.2123\n",
      "Epoch [3/10], Step [800/1880], Loss: 0.0668\n",
      "Epoch [3/10], Step [900/1880], Loss: 0.3436\n",
      "Epoch [3/10], Step [1000/1880], Loss: 0.1231\n",
      "Epoch [3/10], Step [1100/1880], Loss: 0.3212\n",
      "Epoch [3/10], Step [1200/1880], Loss: 0.1868\n",
      "Epoch [3/10], Step [1300/1880], Loss: 0.0457\n",
      "Epoch [3/10], Step [1400/1880], Loss: 0.1343\n",
      "Epoch [3/10], Step [1500/1880], Loss: 0.2374\n",
      "Epoch [3/10], Step [1600/1880], Loss: 0.1196\n",
      "Epoch [3/10], Step [1700/1880], Loss: 0.1635\n",
      "Epoch [3/10], Step [1800/1880], Loss: 0.1267\n",
      "Epoch [4/10], Step [100/1880], Loss: 0.1583\n",
      "Epoch [4/10], Step [200/1880], Loss: 0.2139\n",
      "Epoch [4/10], Step [300/1880], Loss: 0.1478\n",
      "Epoch [4/10], Step [400/1880], Loss: 0.2219\n",
      "Epoch [4/10], Step [500/1880], Loss: 0.1451\n",
      "Epoch [4/10], Step [600/1880], Loss: 0.2200\n",
      "Epoch [4/10], Step [700/1880], Loss: 0.1800\n",
      "Epoch [4/10], Step [800/1880], Loss: 0.1670\n",
      "Epoch [4/10], Step [900/1880], Loss: 0.3286\n",
      "Epoch [4/10], Step [1000/1880], Loss: 0.1722\n",
      "Epoch [4/10], Step [1100/1880], Loss: 0.0942\n",
      "Epoch [4/10], Step [1200/1880], Loss: 0.2422\n",
      "Epoch [4/10], Step [1300/1880], Loss: 0.0595\n",
      "Epoch [4/10], Step [1400/1880], Loss: 0.4473\n",
      "Epoch [4/10], Step [1500/1880], Loss: 0.3300\n",
      "Epoch [4/10], Step [1600/1880], Loss: 0.2412\n",
      "Epoch [4/10], Step [1700/1880], Loss: 0.2056\n",
      "Epoch [4/10], Step [1800/1880], Loss: 0.1323\n",
      "Epoch [5/10], Step [100/1880], Loss: 0.1560\n",
      "Epoch [5/10], Step [200/1880], Loss: 0.1519\n",
      "Epoch [5/10], Step [300/1880], Loss: 0.6011\n",
      "Epoch [5/10], Step [400/1880], Loss: 0.3030\n",
      "Epoch [5/10], Step [500/1880], Loss: 0.1411\n",
      "Epoch [5/10], Step [600/1880], Loss: 0.2268\n",
      "Epoch [5/10], Step [700/1880], Loss: 0.3383\n",
      "Epoch [5/10], Step [800/1880], Loss: 0.1135\n",
      "Epoch [5/10], Step [900/1880], Loss: 0.2604\n",
      "Epoch [5/10], Step [1000/1880], Loss: 0.0794\n",
      "Epoch [5/10], Step [1100/1880], Loss: 0.4575\n",
      "Epoch [5/10], Step [1200/1880], Loss: 0.0963\n",
      "Epoch [5/10], Step [1300/1880], Loss: 0.1307\n",
      "Epoch [5/10], Step [1400/1880], Loss: 0.1259\n",
      "Epoch [5/10], Step [1500/1880], Loss: 0.1015\n",
      "Epoch [5/10], Step [1600/1880], Loss: 0.0384\n",
      "Epoch [5/10], Step [1700/1880], Loss: 0.0980\n",
      "Epoch [5/10], Step [1800/1880], Loss: 0.1488\n",
      "Epoch [6/10], Step [100/1880], Loss: 0.1795\n",
      "Epoch [6/10], Step [200/1880], Loss: 0.1191\n",
      "Epoch [6/10], Step [300/1880], Loss: 0.2447\n",
      "Epoch [6/10], Step [400/1880], Loss: 0.2172\n",
      "Epoch [6/10], Step [500/1880], Loss: 0.0716\n",
      "Epoch [6/10], Step [600/1880], Loss: 0.1644\n",
      "Epoch [6/10], Step [700/1880], Loss: 0.0791\n",
      "Epoch [6/10], Step [800/1880], Loss: 0.1636\n",
      "Epoch [6/10], Step [900/1880], Loss: 0.2396\n",
      "Epoch [6/10], Step [1000/1880], Loss: 0.0526\n",
      "Epoch [6/10], Step [1100/1880], Loss: 0.0947\n",
      "Epoch [6/10], Step [1200/1880], Loss: 0.1954\n",
      "Epoch [6/10], Step [1300/1880], Loss: 0.0824\n",
      "Epoch [6/10], Step [1400/1880], Loss: 0.2246\n",
      "Epoch [6/10], Step [1500/1880], Loss: 0.1306\n",
      "Epoch [6/10], Step [1600/1880], Loss: 0.2649\n",
      "Epoch [6/10], Step [1700/1880], Loss: 0.0770\n",
      "Epoch [6/10], Step [1800/1880], Loss: 0.1710\n",
      "Epoch [7/10], Step [100/1880], Loss: 0.2582\n",
      "Epoch [7/10], Step [200/1880], Loss: 0.4254\n",
      "Epoch [7/10], Step [300/1880], Loss: 0.1321\n",
      "Epoch [7/10], Step [400/1880], Loss: 0.1558\n",
      "Epoch [7/10], Step [500/1880], Loss: 0.0936\n",
      "Epoch [7/10], Step [600/1880], Loss: 0.1193\n",
      "Epoch [7/10], Step [700/1880], Loss: 0.1227\n",
      "Epoch [7/10], Step [800/1880], Loss: 0.2384\n",
      "Epoch [7/10], Step [900/1880], Loss: 0.0666\n",
      "Epoch [7/10], Step [1000/1880], Loss: 0.1061\n",
      "Epoch [7/10], Step [1100/1880], Loss: 0.0523\n",
      "Epoch [7/10], Step [1200/1880], Loss: 0.2251\n",
      "Epoch [7/10], Step [1300/1880], Loss: 0.1418\n",
      "Epoch [7/10], Step [1400/1880], Loss: 0.1341\n",
      "Epoch [7/10], Step [1500/1880], Loss: 0.0726\n",
      "Epoch [7/10], Step [1600/1880], Loss: 0.1308\n",
      "Epoch [7/10], Step [1700/1880], Loss: 0.3396\n",
      "Epoch [7/10], Step [1800/1880], Loss: 0.0469\n",
      "Epoch [8/10], Step [100/1880], Loss: 0.5068\n",
      "Epoch [8/10], Step [200/1880], Loss: 0.2497\n",
      "Epoch [8/10], Step [300/1880], Loss: 0.2612\n",
      "Epoch [8/10], Step [400/1880], Loss: 0.1297\n",
      "Epoch [8/10], Step [500/1880], Loss: 0.4011\n",
      "Epoch [8/10], Step [600/1880], Loss: 0.0590\n",
      "Epoch [8/10], Step [700/1880], Loss: 0.0257\n",
      "Epoch [8/10], Step [800/1880], Loss: 0.1185\n",
      "Epoch [8/10], Step [900/1880], Loss: 0.2434\n",
      "Epoch [8/10], Step [1000/1880], Loss: 0.2831\n",
      "Epoch [8/10], Step [1100/1880], Loss: 0.1569\n",
      "Epoch [8/10], Step [1200/1880], Loss: 0.3505\n",
      "Epoch [8/10], Step [1300/1880], Loss: 0.1565\n",
      "Epoch [8/10], Step [1400/1880], Loss: 0.0583\n",
      "Epoch [8/10], Step [1500/1880], Loss: 0.2517\n",
      "Epoch [8/10], Step [1600/1880], Loss: 0.2394\n",
      "Epoch [8/10], Step [1700/1880], Loss: 0.2727\n",
      "Epoch [8/10], Step [1800/1880], Loss: 0.3021\n",
      "Epoch [9/10], Step [100/1880], Loss: 0.0822\n",
      "Epoch [9/10], Step [200/1880], Loss: 0.0170\n",
      "Epoch [9/10], Step [300/1880], Loss: 0.1682\n",
      "Epoch [9/10], Step [400/1880], Loss: 0.0773\n",
      "Epoch [9/10], Step [500/1880], Loss: 0.4267\n",
      "Epoch [9/10], Step [600/1880], Loss: 0.1624\n",
      "Epoch [9/10], Step [700/1880], Loss: 0.2370\n",
      "Epoch [9/10], Step [800/1880], Loss: 0.2168\n",
      "Epoch [9/10], Step [900/1880], Loss: 0.0601\n",
      "Epoch [9/10], Step [1000/1880], Loss: 0.0611\n",
      "Epoch [9/10], Step [1100/1880], Loss: 0.0972\n",
      "Epoch [9/10], Step [1200/1880], Loss: 0.1258\n",
      "Epoch [9/10], Step [1300/1880], Loss: 0.2178\n",
      "Epoch [9/10], Step [1400/1880], Loss: 0.0188\n",
      "Epoch [9/10], Step [1500/1880], Loss: 0.2090\n",
      "Epoch [9/10], Step [1600/1880], Loss: 0.0593\n",
      "Epoch [9/10], Step [1700/1880], Loss: 0.0880\n",
      "Epoch [9/10], Step [1800/1880], Loss: 0.2367\n",
      "Epoch [10/10], Step [100/1880], Loss: 0.0431\n",
      "Epoch [10/10], Step [200/1880], Loss: 0.1869\n",
      "Epoch [10/10], Step [300/1880], Loss: 0.0503\n",
      "Epoch [10/10], Step [400/1880], Loss: 0.0658\n",
      "Epoch [10/10], Step [500/1880], Loss: 0.0260\n",
      "Epoch [10/10], Step [600/1880], Loss: 0.0788\n",
      "Epoch [10/10], Step [700/1880], Loss: 0.4476\n",
      "Epoch [10/10], Step [800/1880], Loss: 0.1405\n",
      "Epoch [10/10], Step [900/1880], Loss: 0.2818\n",
      "Epoch [10/10], Step [1000/1880], Loss: 0.0653\n",
      "Epoch [10/10], Step [1100/1880], Loss: 0.1023\n",
      "Epoch [10/10], Step [1200/1880], Loss: 0.0846\n",
      "Epoch [10/10], Step [1300/1880], Loss: 0.2169\n",
      "Epoch [10/10], Step [1400/1880], Loss: 0.0822\n",
      "Epoch [10/10], Step [1500/1880], Loss: 0.1068\n",
      "Epoch [10/10], Step [1600/1880], Loss: 0.1214\n",
      "Epoch [10/10], Step [1700/1880], Loss: 0.3455\n",
      "Epoch [10/10], Step [1800/1880], Loss: 0.2292\n"
     ]
    }
   ],
   "source": [
    "loss_list = []\n",
    "num_epochs = 10\n",
    "def train(num_epochs, cnn, loaders):\n",
    "    cnn.train()\n",
    "    # Traing the model\n",
    "    total_step = len(loaders['train'])\n",
    "    for epoch in range(num_epochs):\n",
    "        for i, (images, labels) in enumerate(loaders['train']):\n",
    "            # gives batch data, normalize x when iterate train_loader\n",
    "            b_x = Variable(images)   # batch x\n",
    "            b_y = Variable(labels)   # batch y\n",
    "            # print(cnn(b_x)[0])\n",
    "            output = cnn(b_x)[0] \n",
    "            # print(output.type(torch.LongTensor))\n",
    "            # output = output.label.long()\n",
    "            loss = loss_func(output, b_y.long())\n",
    "            loss_list.append(loss)\n",
    "            # clear gradients for this training step\n",
    "            optimizer.zero_grad()\n",
    "            # backpropagation, compute gradients\n",
    "            loss.backward()\n",
    "            # apply gradients\n",
    "            optimizer.step()\n",
    "            if (i+1) % 100 == 0:\n",
    "                print('Epoch [{}/{}], Step [{}/{}], Loss: {:.4f}' .format(epoch + 1, num_epochs, i + 1, total_step, loss.item()))\n",
    "                pass\n",
    "        pass\n",
    "    pass\n",
    "\n",
    "model = CNN()\n",
    "model.load_state_dict(torch.load(\"CNN_pred.pt\"))\n",
    "train(num_epochs, cnn, loaders)"
   ]
  },
  {
   "cell_type": "code",
   "execution_count": 23,
   "id": "438a124b-d633-41d4-9bee-4c4275775f41",
   "metadata": {},
   "outputs": [
    {
     "data": {
      "text/plain": [
       "[<matplotlib.lines.Line2D at 0x7f17b4090520>]"
      ]
     },
     "execution_count": 23,
     "metadata": {},
     "output_type": "execute_result"
    },
    {
     "data": {
      "image/png": "[encoded data removed]",
      "text/plain": [
       "<Figure size 432x288 with 1 Axes>"
      ]
     },
     "metadata": {
      "needs_background": "light"
     },
     "output_type": "display_data"
    }
   ],
   "source": [
    "# loss_list = loss_list.detach().numpy()\n",
    "# print(type(loss_list))\n",
    "loss_list = [fl.item() for fl in loss_list ]\n",
    "plt.plot(range(len(loss_list)), loss_list)"
   ]
  },
  {
   "cell_type": "code",
   "execution_count": 47,
   "id": "6dba4ea5-dc9d-41f5-a8dc-ad9bdf487667",
   "metadata": {},
   "outputs": [
    {
     "name": "stdout",
     "output_type": "stream",
     "text": [
      "Test Accuracy of the model on the 10000 test images: 0.96\n"
     ]
    }
   ],
   "source": [
    "def test():\n",
    "    # Test the model\n",
    "    cnn.eval()\n",
    "    accuracy = 0\n",
    "    total_count = 0\n",
    "    with torch.no_grad():\n",
    "        for images, labels in loaders['test']:\n",
    "            test_output, last_layer = cnn(images)\n",
    "            pred_y = torch.max(test_output, 1)[1].data.squeeze()\n",
    "            accuracy += (pred_y == labels).sum().item()\n",
    "            total_count += labels.size(0)\n",
    "            pass\n",
    "        accuracy = accuracy / total_count\n",
    "        print('Test Accuracy of the model on the 10000 test images: %.2f' % accuracy)\n",
    "\n",
    "    pass\n",
    "test()"
   ]
  },
  {
   "cell_type": "code",
   "execution_count": 42,
   "id": "1a1fb833-a2d7-4a47-a16a-9482610d6cdf",
   "metadata": {},
   "outputs": [
    {
     "data": {
      "text/plain": [
       "[0, 5, 0, 6, 8, 7, 1, 8, 9, 4]"
      ]
     },
     "execution_count": 42,
     "metadata": {},
     "output_type": "execute_result"
    }
   ],
   "source": [
    "sample = next(iter(loaders['test']))\n",
    "imgs, lbls = sample\n",
    "actual_number = lbls[:10].int().tolist()\n",
    "actual_number"
   ]
  },
  {
   "cell_type": "code",
   "execution_count": 43,
   "id": "7817d267-f525-4a15-af53-38f601a642a4",
   "metadata": {},
   "outputs": [
    {
     "name": "stdout",
     "output_type": "stream",
     "text": [
      "Prediction number: [0 5 0 6 8 7 1 8 9 4]\n",
      "Actual number: [0, 5, 0, 6, 8, 7, 1, 8, 9, 4]\n"
     ]
    }
   ],
   "source": [
    "test_output, last_layer = cnn(imgs[:10])\n",
    "pred_y = torch.max(test_output, 1)[1].data.numpy().squeeze()\n",
    "print(f'Prediction number: {pred_y}')\n",
    "print(f'Actual number: {actual_number}')"
   ]
  },
  {
   "cell_type": "code",
   "execution_count": 44,
   "id": "fb6a702d-e3d0-4ee3-a55e-1c791142fed1",
   "metadata": {},
   "outputs": [
    {
     "name": "stdout",
     "output_type": "stream",
     "text": [
      "torch.Size([11514])\n",
      "torch.Size([11514])\n",
      "torch.Size([11514, 1, 28, 28])\n"
     ]
    }
   ],
   "source": [
    "true, pred, imgs = [], [], []\n",
    "for images, labels in loaders['test']:\n",
    "    test_output, last_layer = cnn(images)\n",
    "    pred_y = torch.max(test_output, 1)[1].data.squeeze()\n",
    "    pred = torch.cat((torch.Tensor(pred), pred_y), dim=0)\n",
    "    imgs = torch.cat((torch.Tensor(imgs), images), dim=0)\n",
    "    true = torch.cat((torch.Tensor(true), labels), dim=0)\n",
    "    pass\n",
    "print(pred.shape)\n",
    "print(true.shape)\n",
    "# print(torch.equal(pred, true))\n",
    "print(imgs.shape)"
   ]
  },
  {
   "cell_type": "code",
   "execution_count": 45,
   "id": "610165db-7a87-40cf-9bcc-74d90ea9ec7f",
   "metadata": {},
   "outputs": [
    {
     "data": {
      "image/png": "[encoded data removed]",
      "text/plain": [
       "<Figure size 720x1440 with 25 Axes>"
      ]
     },
     "metadata": {
      "needs_background": "light"
     },
     "output_type": "display_data"
    }
   ],
   "source": [
    "# print(train_data.data.size())\n",
    "figure = plt.figure(figsize=(10, 20)) # 圖片大小\n",
    "cols, rows = 5, 5\n",
    "for i in range(1, cols * rows + 1):\n",
    "    sample_idx = torch.randint(10000, size=(1,)).item()\n",
    "    label = pred[sample_idx] # 隨機print圖\n",
    "    label_ = true[sample_idx] # 隨機print圖\n",
    "    img = imgs[sample_idx]\n",
    "    figure.add_subplot(rows, cols, i) # 排序\n",
    "    plt.title('true:' + str(int(label_.tolist())) + ', pred:' + str(int(label.tolist())))\n",
    "    plt.axis(\"off\")\n",
    "    plt.imshow(img.squeeze(), cmap=\"gray\")\n",
    "plt.show()"
   ]
  },
  {
   "cell_type": "code",
   "execution_count": null,
   "id": "66b1a93c-35be-4936-98ee-e6705c9762b1",
   "metadata": {},
   "outputs": [],
   "source": []
  }
 ],
 "metadata": {
  "kernelspec": {
   "display_name": "Pytorch",
   "language": "python",
   "name": "pytorch"
  },
  "language_info": {
   "codemirror_mode": {
    "name": "ipython",
    "version": 3
   },
   "file_extension": ".py",
   "mimetype": "text/x-python",
   "name": "python",
   "nbconvert_exporter": "python",
   "pygments_lexer": "ipython3",
   "version": "3.9.7"
  }
 },
 "nbformat": 4,
 "nbformat_minor": 5
}
